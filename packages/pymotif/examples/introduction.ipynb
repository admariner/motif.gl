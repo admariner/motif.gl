{
 "cells": [
  {
   "cell_type": "markdown",
   "metadata": {},
   "source": [
    "# Introduction"
   ]
  },
  {
   "cell_type": "code",
   "execution_count": 8,
   "metadata": {},
   "outputs": [],
   "source": [
    "from pymotif import Motif\n",
    "import networkx as nx\n",
    "\n",
    "# NETWORKX GRAPH\n",
    "gml1 = 'data/karate.gml'\n",
    "g1 = nx.read_gml(gml1)\n",
    "    \n",
    "gml2 = 'data/adjnoun.gml'\n",
    "g2 = nx.read_gml(gml2)"
   ]
  },
  {
   "cell_type": "code",
   "execution_count": 4,
   "metadata": {},
   "outputs": [
    {
     "data": {
      "application/vnd.jupyter.widget-view+json": {
       "model_id": "57b2b9a958654dc5bb8e9e95cba24745",
       "version_major": 2,
       "version_minor": 0
      },
      "text/plain": [
       "Motif(value=None, layout=Layout(height='600px', width='100%'), state={'data': [{'nodes': [{'id': '1', 'value':…"
      ]
     },
     "metadata": {},
     "output_type": "display_data"
    }
   ],
   "source": [
    "motif = Motif(nx_graph=g1, title='FOO')\n",
    "\n",
    "# style = { 'layout': { 'type': 'grid' } }\n",
    "# motif = Motif(nx_graph=g1, style=style)\n",
    "\n",
    "motif.plot()\n",
    "\n",
    "# motif.state"
   ]
  },
  {
   "cell_type": "code",
   "execution_count": 5,
   "metadata": {},
   "outputs": [
    {
     "name": "stdout",
     "output_type": "stream",
     "text": [
      "Reading JSON file, all other params will be ignored...\n"
     ]
    },
    {
     "data": {
      "application/vnd.jupyter.widget-view+json": {
       "model_id": "df06e67c2faf40b3a7cdf02b0fe4c22a",
       "version_major": 2,
       "version_minor": 0
      },
      "text/plain": [
       "Motif(value=None, layout=Layout(height='600px', width='100%'), state={'data': [{'nodes': [{'create_date': '201…"
      ]
     },
     "metadata": {},
     "output_type": "display_data"
    }
   ],
   "source": [
    "motif_json = Motif(json_path='data/sample.json')\n",
    "motif_json"
   ]
  },
  {
   "cell_type": "code",
   "execution_count": null,
   "metadata": {},
   "outputs": [],
   "source": [
    "style = { 'layout': { 'type': 'radial' } }\n",
    "# motif.set_style(style, True)\n",
    "motif.set_style(style)\n",
    "\n",
    "motif"
   ]
  },
  {
   "cell_type": "code",
   "execution_count": null,
   "metadata": {},
   "outputs": [],
   "source": [
    "# motif.add_graph(nx_graph=g1)\n",
    "# motif.add_nx_graph(g2)\n",
    "\n",
    "style = { 'layout': { 'type': 'radial' } }\n",
    "# motif.add_graph(nx_graph=g1, title='BAR', style=style)\n",
    "motif.add_graph(csv_path='data/edgelist.csv', title='BAR')\n",
    "# motif.add_graph(json_path='test.json', title='BAR')\n",
    "\n",
    "motif.plot()"
   ]
  },
  {
   "cell_type": "code",
   "execution_count": null,
   "metadata": {},
   "outputs": [],
   "source": [
    "motif"
   ]
  }
 ],
 "metadata": {
  "kernelspec": {
   "display_name": "Python 3",
   "language": "python",
   "name": "python3"
  },
  "language_info": {
   "codemirror_mode": {
    "name": "ipython",
    "version": 3
   },
   "file_extension": ".py",
   "mimetype": "text/x-python",
   "name": "python",
   "nbconvert_exporter": "python",
   "pygments_lexer": "ipython3",
   "version": "3.9.4"
  },
  "widgets": {
   "application/vnd.jupyter.widget-state+json": {
    "state": {
     "57b2b9a958654dc5bb8e9e95cba24745": {
      "model_module": "@cylynx/pymotif",
      "model_module_version": "^0.0.1-beta.3",
      "model_name": "MotifModel",
      "state": {
       "_model_module_version": "^0.0.1-beta.3",
       "_view_module_version": "^0.0.1-beta.3",
       "group_edges": true,
       "layout": "IPY_MODEL_806fdebeaba4468cb19c186eb6243363",
       "state": {
        "data": [
         {
          "edges": [
           {
            "source": "1",
            "target": "2"
           },
           {
            "source": "1",
            "target": "3"
           },
           {
            "source": "1",
            "target": "4"
           },
           {
            "source": "1",
            "target": "5"
           },
           {
            "source": "1",
            "target": "6"
           },
           {
            "source": "1",
            "target": "7"
           },
           {
            "source": "1",
            "target": "8"
           },
           {
            "source": "1",
            "target": "9"
           },
           {
            "source": "1",
            "target": "11"
           },
           {
            "source": "1",
            "target": "12"
           },
           {
            "source": "1",
            "target": "13"
           },
           {
            "source": "1",
            "target": "14"
           },
           {
            "source": "1",
            "target": "18"
           },
           {
            "source": "1",
            "target": "20"
           },
           {
            "source": "1",
            "target": "22"
           },
           {
            "source": "1",
            "target": "32"
           },
           {
            "source": "2",
            "target": "3"
           },
           {
            "source": "2",
            "target": "4"
           },
           {
            "source": "2",
            "target": "8"
           },
           {
            "source": "2",
            "target": "14"
           },
           {
            "source": "2",
            "target": "18"
           },
           {
            "source": "2",
            "target": "20"
           },
           {
            "source": "2",
            "target": "22"
           },
           {
            "source": "2",
            "target": "31"
           },
           {
            "source": "3",
            "target": "4"
           },
           {
            "source": "3",
            "target": "8"
           },
           {
            "source": "3",
            "target": "9"
           },
           {
            "source": "3",
            "target": "10"
           },
           {
            "source": "3",
            "target": "14"
           },
           {
            "source": "3",
            "target": "28"
           },
           {
            "source": "3",
            "target": "29"
           },
           {
            "source": "3",
            "target": "33"
           },
           {
            "source": "4",
            "target": "8"
           },
           {
            "source": "4",
            "target": "13"
           },
           {
            "source": "4",
            "target": "14"
           },
           {
            "source": "5",
            "target": "7"
           },
           {
            "source": "5",
            "target": "11"
           },
           {
            "source": "6",
            "target": "7"
           },
           {
            "source": "6",
            "target": "11"
           },
           {
            "source": "6",
            "target": "17"
           },
           {
            "source": "7",
            "target": "17"
           },
           {
            "source": "9",
            "target": "31"
           },
           {
            "source": "9",
            "target": "33"
           },
           {
            "source": "9",
            "target": "34"
           },
           {
            "source": "10",
            "target": "34"
           },
           {
            "source": "14",
            "target": "34"
           },
           {
            "source": "15",
            "target": "33"
           },
           {
            "source": "15",
            "target": "34"
           },
           {
            "source": "16",
            "target": "33"
           },
           {
            "source": "16",
            "target": "34"
           },
           {
            "source": "19",
            "target": "33"
           },
           {
            "source": "19",
            "target": "34"
           },
           {
            "source": "20",
            "target": "34"
           },
           {
            "source": "21",
            "target": "33"
           },
           {
            "source": "21",
            "target": "34"
           },
           {
            "source": "23",
            "target": "33"
           },
           {
            "source": "23",
            "target": "34"
           },
           {
            "source": "24",
            "target": "26"
           },
           {
            "source": "24",
            "target": "28"
           },
           {
            "source": "24",
            "target": "30"
           },
           {
            "source": "24",
            "target": "33"
           },
           {
            "source": "24",
            "target": "34"
           },
           {
            "source": "25",
            "target": "26"
           },
           {
            "source": "25",
            "target": "28"
           },
           {
            "source": "25",
            "target": "32"
           },
           {
            "source": "26",
            "target": "32"
           },
           {
            "source": "27",
            "target": "30"
           },
           {
            "source": "27",
            "target": "34"
           },
           {
            "source": "28",
            "target": "34"
           },
           {
            "source": "29",
            "target": "32"
           },
           {
            "source": "29",
            "target": "34"
           },
           {
            "source": "30",
            "target": "33"
           },
           {
            "source": "30",
            "target": "34"
           },
           {
            "source": "31",
            "target": "33"
           },
           {
            "source": "31",
            "target": "34"
           },
           {
            "source": "32",
            "target": "33"
           },
           {
            "source": "32",
            "target": "34"
           },
           {
            "source": "33",
            "target": "34"
           }
          ],
          "metadata": {
           "title": "FOO"
          },
          "nodes": [
           {
            "id": "1",
            "name": "1",
            "value": "1"
           },
           {
            "id": "2",
            "name": "2",
            "value": "2"
           },
           {
            "id": "3",
            "name": "3",
            "value": "3"
           },
           {
            "id": "4",
            "name": "4",
            "value": "4"
           },
           {
            "id": "5",
            "name": "5",
            "value": "5"
           },
           {
            "id": "6",
            "name": "6",
            "value": "6"
           },
           {
            "id": "7",
            "name": "7",
            "value": "7"
           },
           {
            "id": "8",
            "name": "8",
            "value": "8"
           },
           {
            "id": "9",
            "name": "9",
            "value": "9"
           },
           {
            "id": "10",
            "name": "10",
            "value": "10"
           },
           {
            "id": "11",
            "name": "11",
            "value": "11"
           },
           {
            "id": "12",
            "name": "12",
            "value": "12"
           },
           {
            "id": "13",
            "name": "13",
            "value": "13"
           },
           {
            "id": "14",
            "name": "14",
            "value": "14"
           },
           {
            "id": "15",
            "name": "15",
            "value": "15"
           },
           {
            "id": "16",
            "name": "16",
            "value": "16"
           },
           {
            "id": "17",
            "name": "17",
            "value": "17"
           },
           {
            "id": "18",
            "name": "18",
            "value": "18"
           },
           {
            "id": "19",
            "name": "19",
            "value": "19"
           },
           {
            "id": "20",
            "name": "20",
            "value": "20"
           },
           {
            "id": "21",
            "name": "21",
            "value": "21"
           },
           {
            "id": "22",
            "name": "22",
            "value": "22"
           },
           {
            "id": "23",
            "name": "23",
            "value": "23"
           },
           {
            "id": "24",
            "name": "24",
            "value": "24"
           },
           {
            "id": "25",
            "name": "25",
            "value": "25"
           },
           {
            "id": "26",
            "name": "26",
            "value": "26"
           },
           {
            "id": "27",
            "name": "27",
            "value": "27"
           },
           {
            "id": "28",
            "name": "28",
            "value": "28"
           },
           {
            "id": "29",
            "name": "29",
            "value": "29"
           },
           {
            "id": "30",
            "name": "30",
            "value": "30"
           },
           {
            "id": "31",
            "name": "31",
            "value": "31"
           },
           {
            "id": "32",
            "name": "32",
            "value": "32"
           },
           {
            "id": "33",
            "name": "33",
            "value": "33"
           },
           {
            "id": "34",
            "name": "34",
            "value": "34"
           }
          ]
         }
        ],
        "style": {}
       }
      }
     },
     "79f37d55915d4b8f947912f48b75237d": {
      "model_module": "@cylynx/pymotif",
      "model_module_version": "^0.0.1-beta.3",
      "model_name": "MotifModel",
      "state": {
       "_model_module_version": "^0.0.1-beta.3",
       "_view_module_version": "^0.0.1-beta.3",
       "group_edges": true,
       "layout": "IPY_MODEL_806fdebeaba4468cb19c186eb6243363",
       "state": {
        "data": [
         {
          "edges": [
           {
            "source": "1",
            "target": "2"
           },
           {
            "source": "1",
            "target": "3"
           },
           {
            "source": "1",
            "target": "4"
           },
           {
            "source": "1",
            "target": "5"
           },
           {
            "source": "1",
            "target": "6"
           },
           {
            "source": "1",
            "target": "7"
           },
           {
            "source": "1",
            "target": "8"
           },
           {
            "source": "1",
            "target": "9"
           },
           {
            "source": "1",
            "target": "11"
           },
           {
            "source": "1",
            "target": "12"
           },
           {
            "source": "1",
            "target": "13"
           },
           {
            "source": "1",
            "target": "14"
           },
           {
            "source": "1",
            "target": "18"
           },
           {
            "source": "1",
            "target": "20"
           },
           {
            "source": "1",
            "target": "22"
           },
           {
            "source": "1",
            "target": "32"
           },
           {
            "source": "2",
            "target": "3"
           },
           {
            "source": "2",
            "target": "4"
           },
           {
            "source": "2",
            "target": "8"
           },
           {
            "source": "2",
            "target": "14"
           },
           {
            "source": "2",
            "target": "18"
           },
           {
            "source": "2",
            "target": "20"
           },
           {
            "source": "2",
            "target": "22"
           },
           {
            "source": "2",
            "target": "31"
           },
           {
            "source": "3",
            "target": "4"
           },
           {
            "source": "3",
            "target": "8"
           },
           {
            "source": "3",
            "target": "9"
           },
           {
            "source": "3",
            "target": "10"
           },
           {
            "source": "3",
            "target": "14"
           },
           {
            "source": "3",
            "target": "28"
           },
           {
            "source": "3",
            "target": "29"
           },
           {
            "source": "3",
            "target": "33"
           },
           {
            "source": "4",
            "target": "8"
           },
           {
            "source": "4",
            "target": "13"
           },
           {
            "source": "4",
            "target": "14"
           },
           {
            "source": "5",
            "target": "7"
           },
           {
            "source": "5",
            "target": "11"
           },
           {
            "source": "6",
            "target": "7"
           },
           {
            "source": "6",
            "target": "11"
           },
           {
            "source": "6",
            "target": "17"
           },
           {
            "source": "7",
            "target": "17"
           },
           {
            "source": "9",
            "target": "31"
           },
           {
            "source": "9",
            "target": "33"
           },
           {
            "source": "9",
            "target": "34"
           },
           {
            "source": "10",
            "target": "34"
           },
           {
            "source": "14",
            "target": "34"
           },
           {
            "source": "15",
            "target": "33"
           },
           {
            "source": "15",
            "target": "34"
           },
           {
            "source": "16",
            "target": "33"
           },
           {
            "source": "16",
            "target": "34"
           },
           {
            "source": "19",
            "target": "33"
           },
           {
            "source": "19",
            "target": "34"
           },
           {
            "source": "20",
            "target": "34"
           },
           {
            "source": "21",
            "target": "33"
           },
           {
            "source": "21",
            "target": "34"
           },
           {
            "source": "23",
            "target": "33"
           },
           {
            "source": "23",
            "target": "34"
           },
           {
            "source": "24",
            "target": "26"
           },
           {
            "source": "24",
            "target": "28"
           },
           {
            "source": "24",
            "target": "30"
           },
           {
            "source": "24",
            "target": "33"
           },
           {
            "source": "24",
            "target": "34"
           },
           {
            "source": "25",
            "target": "26"
           },
           {
            "source": "25",
            "target": "28"
           },
           {
            "source": "25",
            "target": "32"
           },
           {
            "source": "26",
            "target": "32"
           },
           {
            "source": "27",
            "target": "30"
           },
           {
            "source": "27",
            "target": "34"
           },
           {
            "source": "28",
            "target": "34"
           },
           {
            "source": "29",
            "target": "32"
           },
           {
            "source": "29",
            "target": "34"
           },
           {
            "source": "30",
            "target": "33"
           },
           {
            "source": "30",
            "target": "34"
           },
           {
            "source": "31",
            "target": "33"
           },
           {
            "source": "31",
            "target": "34"
           },
           {
            "source": "32",
            "target": "33"
           },
           {
            "source": "32",
            "target": "34"
           },
           {
            "source": "33",
            "target": "34"
           }
          ],
          "metadata": {
           "title": "FOO"
          },
          "nodes": [
           {
            "id": "1",
            "name": "1",
            "value": "1"
           },
           {
            "id": "2",
            "name": "2",
            "value": "2"
           },
           {
            "id": "3",
            "name": "3",
            "value": "3"
           },
           {
            "id": "4",
            "name": "4",
            "value": "4"
           },
           {
            "id": "5",
            "name": "5",
            "value": "5"
           },
           {
            "id": "6",
            "name": "6",
            "value": "6"
           },
           {
            "id": "7",
            "name": "7",
            "value": "7"
           },
           {
            "id": "8",
            "name": "8",
            "value": "8"
           },
           {
            "id": "9",
            "name": "9",
            "value": "9"
           },
           {
            "id": "10",
            "name": "10",
            "value": "10"
           },
           {
            "id": "11",
            "name": "11",
            "value": "11"
           },
           {
            "id": "12",
            "name": "12",
            "value": "12"
           },
           {
            "id": "13",
            "name": "13",
            "value": "13"
           },
           {
            "id": "14",
            "name": "14",
            "value": "14"
           },
           {
            "id": "15",
            "name": "15",
            "value": "15"
           },
           {
            "id": "16",
            "name": "16",
            "value": "16"
           },
           {
            "id": "17",
            "name": "17",
            "value": "17"
           },
           {
            "id": "18",
            "name": "18",
            "value": "18"
           },
           {
            "id": "19",
            "name": "19",
            "value": "19"
           },
           {
            "id": "20",
            "name": "20",
            "value": "20"
           },
           {
            "id": "21",
            "name": "21",
            "value": "21"
           },
           {
            "id": "22",
            "name": "22",
            "value": "22"
           },
           {
            "id": "23",
            "name": "23",
            "value": "23"
           },
           {
            "id": "24",
            "name": "24",
            "value": "24"
           },
           {
            "id": "25",
            "name": "25",
            "value": "25"
           },
           {
            "id": "26",
            "name": "26",
            "value": "26"
           },
           {
            "id": "27",
            "name": "27",
            "value": "27"
           },
           {
            "id": "28",
            "name": "28",
            "value": "28"
           },
           {
            "id": "29",
            "name": "29",
            "value": "29"
           },
           {
            "id": "30",
            "name": "30",
            "value": "30"
           },
           {
            "id": "31",
            "name": "31",
            "value": "31"
           },
           {
            "id": "32",
            "name": "32",
            "value": "32"
           },
           {
            "id": "33",
            "name": "33",
            "value": "33"
           },
           {
            "id": "34",
            "name": "34",
            "value": "34"
           }
          ]
         }
        ],
        "style": {}
       }
      }
     },
     "806fdebeaba4468cb19c186eb6243363": {
      "model_module": "@jupyter-widgets/base",
      "model_module_version": "1.2.0",
      "model_name": "LayoutModel",
      "state": {
       "height": "600px",
       "width": "100%"
      }
     },
     "df06e67c2faf40b3a7cdf02b0fe4c22a": {
      "model_module": "@cylynx/pymotif",
      "model_module_version": "^0.0.1-beta.3",
      "model_name": "MotifModel",
      "state": {
       "_model_module_version": "^0.0.1-beta.3",
       "_view_module_version": "^0.0.1-beta.3",
       "group_edges": true,
       "layout": "IPY_MODEL_806fdebeaba4468cb19c186eb6243363",
       "state": {
        "data": [
         {
          "edges": [
           {
            "amount": 1000000,
            "balance": 200000,
            "category": "ib_txn",
            "data": {},
            "date": "2020-01-01T00:00:00",
            "defaultStyle": {},
            "id": "ib_txn_1",
            "is_foreign_source": 0,
            "is_foreign_target": 1,
            "is_high_risk_source_target_location": 0,
            "relation": "ib_transfer",
            "source": "account_103",
            "source_owner": "customer_103",
            "target": "account_904",
            "target_owner": "other_banks",
            "time": "00:00:00"
           },
           {
            "amount": 100000,
            "balance": "-",
            "category": "ib_txn",
            "data": {},
            "date": "2020-01-02T01:00:00",
            "defaultStyle": {},
            "id": "ib_txn_2",
            "is_foreign_source": 1,
            "is_foreign_target": 0,
            "is_high_risk_source_target_location": 0,
            "relation": "ib_transfer",
            "source": "account_903",
            "source_owner": "other_banks",
            "target": "account_103",
            "target_owner": "customer_103",
            "time": "01:00:00"
           },
           {
            "amount": 50000,
            "balance": 250000,
            "category": "ib_txn",
            "data": {},
            "date": "2020-01-02T02:00:00",
            "defaultStyle": {},
            "id": "ib_txn_3",
            "is_foreign_source": 0,
            "is_foreign_target": 1,
            "is_high_risk_source_target_location": 0,
            "relation": "ib_transfer",
            "source": "account_103",
            "source_owner": "customer_103",
            "target": "account_904",
            "target_owner": "other_banks",
            "time": "02:00:00"
           },
           {
            "amount": 2000000,
            "balance": "-",
            "category": "ib_txn",
            "data": {},
            "date": "2020-01-01T03:00:00",
            "defaultStyle": {},
            "id": "ib_txn_4",
            "is_foreign_source": 1,
            "is_foreign_target": 0,
            "is_high_risk_source_target_location": 0,
            "relation": "ib_transfer",
            "source": "account_904",
            "source_owner": "other_banks",
            "target": "account_103",
            "target_owner": "customer_103",
            "time": "03:00:00"
           },
           {
            "amount": 1000000,
            "balance": 1250000,
            "category": "ib_txn",
            "data": {},
            "date": "2020-01-02T04:00:00",
            "defaultStyle": {},
            "id": "ib_txn_5",
            "is_foreign_source": 0,
            "is_foreign_target": 1,
            "is_high_risk_source_target_location": 0,
            "relation": "ib_transfer",
            "source": "account_103",
            "source_owner": "customer_103",
            "target": "account_903",
            "target_owner": "other_banks",
            "time": "04:00:00"
           },
           {
            "amount": 1000000,
            "balance": 250000,
            "category": "ib_txn",
            "data": {},
            "date": "2020-01-02T05:00:00",
            "defaultStyle": {},
            "id": "ib_txn_6",
            "is_foreign_source": 0,
            "is_foreign_target": 1,
            "is_high_risk_source_target_location": 0,
            "relation": "ib_transfer",
            "source": "account_103",
            "source_owner": "customer_103",
            "target": "account_903",
            "target_owner": "other_banks",
            "time": "05:00:00"
           },
           {
            "amount": 250000,
            "balance": 10000,
            "category": "ib_txn",
            "data": {},
            "date": "2020-01-01T06:00:00",
            "defaultStyle": {},
            "id": "ib_txn_7",
            "is_foreign_source": 0,
            "is_foreign_target": 0,
            "is_high_risk_source_target_location": 0,
            "relation": "ib_transfer",
            "source": "account_901",
            "source_owner": "customer_901",
            "target": "account_103",
            "target_owner": "customer_103",
            "time": "06:00:00"
           },
           {
            "amount": 250000,
            "balance": 300000,
            "category": "ib_txn",
            "data": {},
            "date": "2020-01-01T06:30:00",
            "defaultStyle": {},
            "id": "ib_txn_8",
            "is_foreign_source": 0,
            "is_foreign_target": 0,
            "is_high_risk_source_target_location": 0,
            "relation": "ib_transfer",
            "source": "account_902",
            "source_owner": "customer_902",
            "target": "account_103",
            "target_owner": "customer_103",
            "time": "06:30:00"
           },
           {
            "amount": 250000,
            "balance": "-",
            "category": "ib_txn",
            "data": {},
            "date": "2020-01-02T06:00:00",
            "defaultStyle": {},
            "id": "ib_txn_9",
            "is_foreign_source": 1,
            "is_foreign_target": 0,
            "is_high_risk_source_target_location": 0,
            "relation": "ib_transfer",
            "source": "account_903",
            "source_owner": "other_banks",
            "target": "account_103",
            "target_owner": "customer_103",
            "time": "06:00:00"
           },
           {
            "amount": 250000,
            "balance": "-",
            "category": "ib_txn",
            "data": {},
            "date": "2020-01-01T00:00:00",
            "defaultStyle": {},
            "id": "ib_txn_10",
            "is_foreign_source": 1,
            "is_foreign_target": 0,
            "is_high_risk_source_target_location": 0,
            "relation": "ib_transfer",
            "source": "account_904",
            "source_owner": "other_banks",
            "target": "account_103",
            "target_owner": "customer_103",
            "time": "00:00:00"
           },
           {
            "amount": 125000,
            "balance": 225000,
            "category": "ib_txn",
            "data": {},
            "date": "2020-01-03T22:00:00",
            "defaultStyle": {},
            "id": "ib_txn_72",
            "is_foreign_source": 0,
            "is_foreign_target": 0,
            "is_high_risk_source_target_location": 0,
            "relation": "ib_transfer",
            "source": "account_7",
            "source_owner": "customer_7",
            "target": "account_103",
            "target_owner": "customer_103",
            "time": "22:00:00"
           },
           {
            "amount": 250000,
            "balance": 475000,
            "category": "ib_txn",
            "data": {},
            "date": "2020-01-03T22:00:00",
            "defaultStyle": {},
            "id": "ib_txn_73",
            "is_foreign_source": 0,
            "is_foreign_target": 0,
            "is_high_risk_source_target_location": 0,
            "relation": "ib_transfer",
            "source": "account_55",
            "source_owner": "customer_55",
            "target": "account_103",
            "target_owner": "customer_103",
            "time": "22:00:00"
           },
           {
            "amount": 150000,
            "balance": 625000,
            "category": "ib_txn",
            "data": {},
            "date": "2020-01-04T18:00:00",
            "defaultStyle": {},
            "id": "ib_txn_74",
            "is_foreign_source": 0,
            "is_foreign_target": 0,
            "is_high_risk_source_target_location": 0,
            "relation": "ib_transfer",
            "source": "account_20",
            "source_owner": "customer_20",
            "target": "account_103",
            "target_owner": "customer_103",
            "time": "18:00:00"
           },
           {
            "amount": 300000,
            "balance": 925000,
            "category": "ib_txn",
            "data": {},
            "date": "2020-01-04T18:00:00",
            "defaultStyle": {},
            "id": "ib_txn_75",
            "is_foreign_source": 0,
            "is_foreign_target": 0,
            "is_high_risk_source_target_location": 0,
            "relation": "ib_transfer",
            "source": "account_81",
            "source_owner": "customer_81",
            "target": "account_103",
            "target_owner": "customer_103",
            "time": "18:00:00"
           },
           {
            "category": "ownership",
            "data": {},
            "defaultStyle": {},
            "id": "ownership_210",
            "relation": "owns",
            "source": "customer_7",
            "target": "account_7"
           },
           {
            "category": "ownership",
            "data": {},
            "defaultStyle": {},
            "id": "ownership_223",
            "relation": "owns",
            "source": "customer_20",
            "target": "account_20"
           },
           {
            "category": "ownership",
            "data": {},
            "defaultStyle": {},
            "id": "ownership_258",
            "relation": "owns",
            "source": "customer_55",
            "target": "account_55"
           },
           {
            "category": "ownership",
            "data": {},
            "defaultStyle": {},
            "id": "ownership_284",
            "relation": "owns",
            "source": "customer_81",
            "target": "account_81"
           },
           {
            "category": "ownership",
            "data": {},
            "defaultStyle": {},
            "id": "ownership_306",
            "relation": "owns",
            "source": "customer_103",
            "target": "account_103"
           },
           {
            "category": "ownership",
            "data": {},
            "defaultStyle": {},
            "id": "ownership_307",
            "relation": "owns",
            "source": "customer_901",
            "target": "account_901"
           },
           {
            "category": "ownership",
            "data": {},
            "defaultStyle": {},
            "id": "ownership_308",
            "relation": "owns",
            "source": "customer_902",
            "target": "account_902"
           },
           {
            "category": "ownership",
            "data": {},
            "defaultStyle": {},
            "id": "ownership_310",
            "relation": "owns",
            "source": "other_banks",
            "target": "account_903"
           },
           {
            "category": "ownership",
            "data": {},
            "defaultStyle": {},
            "id": "ownership_311",
            "relation": "owns",
            "source": "other_banks",
            "target": "account_904"
           }
          ],
          "metadata": {
           "fields": {
            "edges": [
             {
              "analyzerType": "INT",
              "format": "",
              "name": "amount",
              "type": "integer"
             },
             {
              "analyzerType": "STRING",
              "format": "",
              "name": "category",
              "type": "string"
             },
             {
              "analyzerType": "DATETIME",
              "format": "YYYY-M-DTH:m:s",
              "name": "date",
              "type": "timestamp"
             },
             {
              "analyzerType": "STRING",
              "format": "",
              "name": "id",
              "type": "string"
             },
             {
              "analyzerType": "INT",
              "format": "",
              "name": "is_foreign_source",
              "type": "integer"
             },
             {
              "analyzerType": "INT",
              "format": "",
              "name": "is_foreign_target",
              "type": "integer"
             },
             {
              "analyzerType": "INT",
              "format": "",
              "name": "is_high_risk_source_target_location",
              "type": "integer"
             },
             {
              "analyzerType": "STRING",
              "format": "",
              "name": "relation",
              "type": "string"
             },
             {
              "analyzerType": "STRING",
              "format": "",
              "name": "source",
              "type": "string"
             },
             {
              "analyzerType": "STRING",
              "format": "",
              "name": "source_owner",
              "type": "string"
             },
             {
              "analyzerType": "STRING",
              "format": "",
              "name": "target",
              "type": "string"
             },
             {
              "analyzerType": "STRING",
              "format": "",
              "name": "target_owner",
              "type": "string"
             },
             {
              "analyzerType": "TIME",
              "format": "H:m:s",
              "name": "time",
              "type": "time"
             }
            ],
            "nodes": [
             {
              "analyzerType": "DATETIME",
              "format": "YYYY-M-DTH:m:s",
              "name": "create_date",
              "type": "timestamp"
             },
             {
              "analyzerType": "STRING",
              "format": "",
              "name": "icon",
              "type": "string"
             },
             {
              "analyzerType": "STRING",
              "format": "",
              "name": "id",
              "type": "string"
             },
             {
              "analyzerType": "INT",
              "format": "",
              "name": "is_different_bank",
              "type": "integer"
             },
             {
              "analyzerType": "STRING",
              "format": "",
              "name": "address",
              "type": "string"
             },
             {
              "analyzerType": "STRING",
              "format": "",
              "name": "customer_type",
              "type": "string"
             },
             {
              "analyzerType": "STRING",
              "format": "",
              "name": "first_name",
              "type": "string"
             },
             {
              "analyzerType": "STRING",
              "format": "",
              "name": "last_name",
              "type": "string"
             },
             {
              "analyzerType": "STRING",
              "format": "",
              "name": "phone",
              "type": "string"
             },
             {
              "analyzerType": "STRING",
              "format": "",
              "name": "remarks",
              "type": "string"
             },
             {
              "analyzerType": "STRING",
              "format": "",
              "name": "risk_category",
              "type": "string"
             },
             {
              "analyzerType": "INT",
              "format": "",
              "name": "risk_score",
              "type": "integer"
             }
            ]
           },
           "groupEdges": {
            "availability": true,
            "toggle": true
           },
           "key": "K6T5dLXLY",
           "title": "Banking Connections"
          },
          "nodes": [
           {
            "create_date": "2019-01-03T00:00:00",
            "data": {},
            "defaultStyle": {},
            "icon": "account_balance",
            "id": "account_7",
            "is_different_bank": 0
           },
           {
            "create_date": "2019-01-05T00:00:00",
            "data": {},
            "defaultStyle": {},
            "icon": "account_balance",
            "id": "account_20",
            "is_different_bank": 0
           },
           {
            "create_date": "2019-01-07T00:00:00",
            "data": {},
            "defaultStyle": {},
            "icon": "account_balance",
            "id": "account_55",
            "is_different_bank": 0
           },
           {
            "create_date": "2019-01-15T00:00:00",
            "data": {},
            "defaultStyle": {},
            "icon": "account_balance",
            "id": "account_81",
            "is_different_bank": 0
           },
           {
            "create_date": "2019-01-15T00:00:00",
            "data": {},
            "defaultStyle": {},
            "icon": "account_balance",
            "id": "account_103",
            "is_different_bank": 0
           },
           {
            "create_date": "2019-01-03T00:00:00",
            "data": {},
            "defaultStyle": {},
            "icon": "account_balance",
            "id": "account_901",
            "is_different_bank": 0
           },
           {
            "create_date": "2019-01-10T00:00:00",
            "data": {},
            "defaultStyle": {},
            "icon": "account_balance",
            "id": "account_902",
            "is_different_bank": 0
           },
           {
            "create_date": "2019-01-09T00:00:00",
            "data": {},
            "defaultStyle": {},
            "icon": "account_balance",
            "id": "account_903",
            "is_different_bank": 1
           },
           {
            "create_date": "2019-01-08T00:00:00",
            "data": {},
            "defaultStyle": {},
            "icon": "account_balance",
            "id": "account_904",
            "is_different_bank": 1
           },
           {
            "address": "-",
            "customer_type": "retail",
            "data": {},
            "defaultStyle": {},
            "first_name": "-",
            "icon": "account_box",
            "id": "customer_7",
            "last_name": "-",
            "phone": "-",
            "remarks": "high-value IB txn into customer 103's account",
            "risk_category": "medium",
            "risk_score": 50
           },
           {
            "address": "-",
            "customer_type": "retail",
            "data": {},
            "defaultStyle": {},
            "first_name": "-",
            "icon": "account_box",
            "id": "customer_20",
            "last_name": "-",
            "phone": "-",
            "remarks": "high-value IB txn into customer 103's account",
            "risk_category": "medium",
            "risk_score": 50
           },
           {
            "address": "-",
            "customer_type": "retail",
            "data": {},
            "defaultStyle": {},
            "first_name": "-",
            "icon": "account_box",
            "id": "customer_55",
            "last_name": "-",
            "phone": "-",
            "remarks": "high-value IB txn into customer 103's account",
            "risk_category": "medium",
            "risk_score": 50
           },
           {
            "address": "-",
            "customer_type": "retail",
            "data": {},
            "defaultStyle": {},
            "first_name": "-",
            "icon": "account_box",
            "id": "customer_81",
            "last_name": "-",
            "phone": "-",
            "remarks": "high-value IB txn into customer 103's account",
            "risk_category": "medium",
            "risk_score": 50
           },
           {
            "address": "103 RD",
            "customer_type": "retail",
            "data": {},
            "defaultStyle": {},
            "first_name": "john",
            "icon": "account_box",
            "id": "customer_103",
            "last_name": "doe",
            "phone": "+65 0000 0103",
            "remarks": "high-value purchases from luxury retailer. source of funds from 4 related accounts",
            "risk_category": "high",
            "risk_score": 99
           },
           {
            "address": "901 RD",
            "customer_type": "retail",
            "data": {},
            "defaultStyle": {},
            "first_name": "jane",
            "icon": "account_box",
            "id": "customer_901",
            "last_name": "doe",
            "phone": "+65 0000 0103",
            "remarks": "source of funds for customer 103's purchase of luxury items. customer has same phone number as customer 103.",
            "risk_category": "medium",
            "risk_score": 74
           },
           {
            "address": "103 RD",
            "customer_type": "retail",
            "data": {},
            "defaultStyle": {},
            "first_name": "jim",
            "icon": "account_box",
            "id": "customer_902",
            "last_name": "smith",
            "phone": "+65 0000 0902",
            "remarks": "source of funds for customer 103's purchase of luxury items. customer has same address as customer 103.",
            "risk_category": "medium",
            "risk_score": 74
           },
           {
            "address": "-",
            "customer_type": "-",
            "data": {},
            "defaultStyle": {},
            "first_name": "-",
            "icon": "-",
            "id": "other_banks",
            "last_name": "-",
            "phone": "-",
            "remarks": "other banks",
            "risk_category": "-",
            "risk_score": "-"
           }
          ]
         }
        ],
        "style": {
         "edgeStyle": {
          "label": "none",
          "width": {
           "id": "fixed",
           "value": 1
          }
         },
         "groupEdges": false,
         "layout": {
          "minNodeSpacing": 50,
          "preventOverlap": true,
          "sortBy": "degree",
          "type": "concentric",
          "workerEnabled": true
         },
         "nodeStyle": {
          "color": {
           "id": "fixed",
           "value": "#66c2a5"
          },
          "size": {
           "id": "fixed",
           "value": 20
          }
         },
         "resetView": true
        }
       }
      }
     }
    },
    "version_major": 2,
    "version_minor": 0
   }
  }
 },
 "nbformat": 4,
 "nbformat_minor": 4
}
