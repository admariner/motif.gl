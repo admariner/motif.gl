{
 "cells": [
  {
   "cell_type": "markdown",
   "id": "05461b94-3b60-40c0-90c1-8e072004cbe8",
   "metadata": {},
   "source": [
    "# Neo4j Demo"
   ]
  },
  {
   "cell_type": "code",
   "execution_count": 3,
   "id": "c6584545-1f97-488f-89d7-663212849c84",
   "metadata": {},
   "outputs": [],
   "source": [
    "from pymotif import Motif\n",
    "import neo4j\n",
    "\n",
    "import networkx as nx"
   ]
  },
  {
   "cell_type": "code",
   "execution_count": 9,
   "id": "ce3725f3-98dc-4e9c-98ff-b9567d4e0ce3",
   "metadata": {},
   "outputs": [],
   "source": [
    "# neo4j sandbox\n",
    "uri = 'bolt://35.170.33.46:7687'\n",
    "auth = ('neo4j', 'clothing-chairmen-stings')\n",
    "driver = neo4j.GraphDatabase.driver(uri=uri,auth=auth)\n",
    "\n",
    "# return all Person nodes who directed a movie that was released after 2000\n",
    "query = 'MATCH (p:Person)-[d:DIRECTED]-(m:Movie) where m.released > 2000 RETURN p,d,m'\n",
    "\n",
    "# get query results\n",
    "results = driver.session().run(query)"
   ]
  },
  {
   "cell_type": "code",
   "execution_count": 10,
   "id": "e6e31244-1136-4e64-a7c3-1ac4e284ff2f",
   "metadata": {},
   "outputs": [
    {
     "data": {
      "application/vnd.jupyter.widget-view+json": {
       "model_id": "e576041c8d2e4d53a82d3c4ac4bc93c8",
       "version_major": 2,
       "version_minor": 0
      },
      "text/plain": [
       "Motif(value=None, layout=Layout(height='600px', width='100%'), state={'data': [{'nodes': [{'name': 'Lana Wacho…"
      ]
     },
     "metadata": {},
     "output_type": "display_data"
    }
   ],
   "source": [
    "# plot the neo4j graph\n",
    "test = Motif(neo4j_graph=results.graph(), title='neo4j graph')\n",
    "test.plot()\n",
    "# test.state"
   ]
  },
  {
   "cell_type": "code",
   "execution_count": null,
   "id": "97182c1f-09ee-494f-9661-04828517054d",
   "metadata": {},
   "outputs": [],
   "source": [
    "# make some style adjustments via UI\n",
    "test.plot()"
   ]
  }
 ],
 "metadata": {
  "kernelspec": {
   "display_name": "Python 3",
   "language": "python",
   "name": "python3"
  },
  "language_info": {
   "codemirror_mode": {
    "name": "ipython",
    "version": 3
   },
   "file_extension": ".py",
   "mimetype": "text/x-python",
   "name": "python",
   "nbconvert_exporter": "python",
   "pygments_lexer": "ipython3",
   "version": "3.9.4"
  },
  "widgets": {
   "application/vnd.jupyter.widget-state+json": {
    "state": {
     "6f1c440494ed406e9172eb3411c40120": {
      "model_module": "@cylynx/pymotif",
      "model_module_version": "^0.0.1-beta.3",
      "model_name": "MotifModel",
      "state": {
       "_model_module_version": "^0.0.1-beta.3",
       "_view_module_version": "^0.0.1-beta.3",
       "group_edges": true,
       "layout": "IPY_MODEL_c9f88b707dea40ecb9e0b9c668b46a2f",
       "state": {
        "data": [
         {
          "edges": [
           {
            "id": "edge-137",
            "relationship": "ACTED_IN",
            "roles": [
             "Zachry",
             "Dr. Henry Goose",
             "Isaac Sachs",
             "Dermot Hoggins"
            ],
            "source": "node-71",
            "target": "node-105"
           },
           {
            "id": "edge-140",
            "relationship": "ACTED_IN",
            "roles": [
             "Vyvyan Ayrs",
             "Captain Molyneux",
             "Timothy Cavendish"
            ],
            "source": "node-107",
            "target": "node-105"
           },
           {
            "id": "edge-144",
            "relationship": "WROTE",
            "source": "node-109",
            "target": "node-105"
           },
           {
            "id": "edge-141",
            "relationship": "DIRECTED",
            "source": "node-108",
            "target": "node-105"
           },
           {
            "id": "edge-143",
            "relationship": "DIRECTED",
            "source": "node-6",
            "target": "node-105"
           },
           {
            "id": "edge-145",
            "relationship": "PRODUCED",
            "source": "node-110",
            "target": "node-105"
           },
           {
            "id": "edge-244",
            "rating": 95,
            "relationship": "REVIEWED",
            "source": "node-169",
            "summary": "An amazing journey",
            "target": "node-105"
           },
           {
            "id": "edge-139",
            "relationship": "ACTED_IN",
            "roles": [
             "Luisa Rey",
             "Jocasta Ayrs",
             "Ovid",
             "Meronym"
            ],
            "source": "node-106",
            "target": "node-105"
           },
           {
            "id": "edge-138",
            "relationship": "ACTED_IN",
            "roles": [
             "Bill Smoke",
             "Haskell Moore",
             "Tadeusz Kesselring",
             "Nurse Noakes",
             "Boardman Mephi",
             "Old Georgie"
            ],
            "source": "node-4",
            "target": "node-105"
           },
           {
            "id": "edge-142",
            "relationship": "DIRECTED",
            "source": "node-5",
            "target": "node-105"
           }
          ],
          "metadata": {
           "title": "neo4j graph"
          },
          "nodes": [
           {
            "born": 1956,
            "id": "node-71",
            "labels": "Person",
            "name": "Tom Hanks"
           },
           {
            "id": "node-105",
            "labels": "Movie",
            "released": 2012,
            "tagline": "Everything is connected",
            "title": "Cloud Atlas"
           },
           {
            "born": 1949,
            "id": "node-107",
            "labels": "Person",
            "name": "Jim Broadbent"
           },
           {
            "born": 1969,
            "id": "node-109",
            "labels": "Person",
            "name": "David Mitchell"
           },
           {
            "born": 1965,
            "id": "node-108",
            "labels": "Person",
            "name": "Tom Tykwer"
           },
           {
            "born": 1965,
            "id": "node-6",
            "labels": "Person",
            "name": "Lana Wachowski"
           },
           {
            "born": 1961,
            "id": "node-110",
            "labels": "Person",
            "name": "Stefan Arndt"
           },
           {
            "id": "node-169",
            "labels": "Person",
            "name": "Jessica Thompson"
           },
           {
            "born": 1966,
            "id": "node-106",
            "labels": "Person",
            "name": "Halle Berry"
           },
           {
            "born": 1960,
            "id": "node-4",
            "labels": "Person",
            "name": "Hugo Weaving"
           },
           {
            "born": 1967,
            "id": "node-5",
            "labels": "Person",
            "name": "Lilly Wachowski"
           }
          ]
         }
        ],
        "style": {}
       }
      }
     },
     "be91ffc96c334a5594f2dc2034129be1": {
      "model_module": "@cylynx/pymotif",
      "model_module_version": "^0.0.1-beta.3",
      "model_name": "MotifModel",
      "state": {
       "_model_module_version": "^0.0.1-beta.3",
       "_view_module_version": "^0.0.1-beta.3",
       "group_edges": true,
       "layout": "IPY_MODEL_c9f88b707dea40ecb9e0b9c668b46a2f",
       "state": {
        "data": [
         {
          "edges": [
           {
            "id": "edge-141",
            "relationship": "DIRECTED",
            "source": "node-108",
            "target": "node-105"
           },
           {
            "id": "edge-143",
            "relationship": "DIRECTED",
            "source": "node-6",
            "target": "node-105"
           },
           {
            "id": "edge-142",
            "relationship": "DIRECTED",
            "source": "node-5",
            "target": "node-105"
           }
          ],
          "metadata": {
           "title": "neo4j graph"
          },
          "nodes": [
           {
            "born": 1965,
            "id": "node-108",
            "labels": "Person",
            "name": "Tom Tykwer"
           },
           {
            "id": "node-105",
            "labels": "Movie",
            "released": 2012,
            "tagline": "Everything is connected",
            "title": "Cloud Atlas"
           },
           {
            "born": 1965,
            "id": "node-6",
            "labels": "Person",
            "name": "Lana Wachowski"
           },
           {
            "born": 1967,
            "id": "node-5",
            "labels": "Person",
            "name": "Lilly Wachowski"
           }
          ]
         }
        ],
        "style": {}
       }
      }
     },
     "bfb6c114101c4b6ba6cafa040701b13a": {
      "model_module": "@cylynx/pymotif",
      "model_module_version": "^0.0.1-beta.3",
      "model_name": "MotifModel",
      "state": {
       "_model_module_version": "^0.0.1-beta.3",
       "_view_module_version": "^0.0.1-beta.3",
       "group_edges": true,
       "layout": "IPY_MODEL_c9f88b707dea40ecb9e0b9c668b46a2f",
       "state": {
        "data": [
         {
          "edges": [
           {
            "id": "edge-137",
            "relationship": "ACTED_IN",
            "roles": [
             "Zachry",
             "Dr. Henry Goose",
             "Isaac Sachs",
             "Dermot Hoggins"
            ],
            "source": "node-71",
            "target": "node-105"
           },
           {
            "id": "edge-140",
            "relationship": "ACTED_IN",
            "roles": [
             "Vyvyan Ayrs",
             "Captain Molyneux",
             "Timothy Cavendish"
            ],
            "source": "node-107",
            "target": "node-105"
           },
           {
            "id": "edge-144",
            "relationship": "WROTE",
            "source": "node-109",
            "target": "node-105"
           },
           {
            "id": "edge-141",
            "relationship": "DIRECTED",
            "source": "node-108",
            "target": "node-105"
           },
           {
            "id": "edge-143",
            "relationship": "DIRECTED",
            "source": "node-6",
            "target": "node-105"
           },
           {
            "id": "edge-145",
            "relationship": "PRODUCED",
            "source": "node-110",
            "target": "node-105"
           },
           {
            "id": "edge-244",
            "rating": 95,
            "relationship": "REVIEWED",
            "source": "node-169",
            "summary": "An amazing journey",
            "target": "node-105"
           },
           {
            "id": "edge-139",
            "relationship": "ACTED_IN",
            "roles": [
             "Luisa Rey",
             "Jocasta Ayrs",
             "Ovid",
             "Meronym"
            ],
            "source": "node-106",
            "target": "node-105"
           },
           {
            "id": "edge-138",
            "relationship": "ACTED_IN",
            "roles": [
             "Bill Smoke",
             "Haskell Moore",
             "Tadeusz Kesselring",
             "Nurse Noakes",
             "Boardman Mephi",
             "Old Georgie"
            ],
            "source": "node-4",
            "target": "node-105"
           },
           {
            "id": "edge-142",
            "relationship": "DIRECTED",
            "source": "node-5",
            "target": "node-105"
           }
          ],
          "metadata": {
           "title": "neo4j graph"
          },
          "nodes": [
           {
            "born": 1956,
            "id": "node-71",
            "labels": "Person",
            "name": "Tom Hanks"
           },
           {
            "id": "node-105",
            "labels": "Movie",
            "released": 2012,
            "tagline": "Everything is connected",
            "title": "Cloud Atlas"
           },
           {
            "born": 1949,
            "id": "node-107",
            "labels": "Person",
            "name": "Jim Broadbent"
           },
           {
            "born": 1969,
            "id": "node-109",
            "labels": "Person",
            "name": "David Mitchell"
           },
           {
            "born": 1965,
            "id": "node-108",
            "labels": "Person",
            "name": "Tom Tykwer"
           },
           {
            "born": 1965,
            "id": "node-6",
            "labels": "Person",
            "name": "Lana Wachowski"
           },
           {
            "born": 1961,
            "id": "node-110",
            "labels": "Person",
            "name": "Stefan Arndt"
           },
           {
            "id": "node-169",
            "labels": "Person",
            "name": "Jessica Thompson"
           },
           {
            "born": 1966,
            "id": "node-106",
            "labels": "Person",
            "name": "Halle Berry"
           },
           {
            "born": 1960,
            "id": "node-4",
            "labels": "Person",
            "name": "Hugo Weaving"
           },
           {
            "born": 1967,
            "id": "node-5",
            "labels": "Person",
            "name": "Lilly Wachowski"
           }
          ]
         }
        ],
        "style": {}
       }
      }
     },
     "c9f88b707dea40ecb9e0b9c668b46a2f": {
      "model_module": "@jupyter-widgets/base",
      "model_module_version": "1.2.0",
      "model_name": "LayoutModel",
      "state": {
       "height": "600px",
       "width": "100%"
      }
     },
     "e576041c8d2e4d53a82d3c4ac4bc93c8": {
      "model_module": "@cylynx/pymotif",
      "model_module_version": "^0.0.1-beta.3",
      "model_name": "MotifModel",
      "state": {
       "_model_module_version": "^0.0.1-beta.3",
       "_view_module_version": "^0.0.1-beta.3",
       "group_edges": true,
       "layout": "IPY_MODEL_c9f88b707dea40ecb9e0b9c668b46a2f",
       "state": {
        "data": [
         {
          "edges": [
           {
            "id": "edge-13",
            "relationship": "DIRECTED",
            "source": "node-6",
            "target": "node-9"
           },
           {
            "id": "edge-12",
            "relationship": "DIRECTED",
            "source": "node-5",
            "target": "node-9"
           },
           {
            "id": "edge-20",
            "relationship": "DIRECTED",
            "source": "node-6",
            "target": "node-10"
           },
           {
            "id": "edge-19",
            "relationship": "DIRECTED",
            "source": "node-5",
            "target": "node-10"
           },
           {
            "id": "edge-222",
            "relationship": "DIRECTED",
            "source": "node-156",
            "target": "node-154"
           },
           {
            "id": "edge-233",
            "relationship": "DIRECTED",
            "source": "node-151",
            "target": "node-161"
           },
           {
            "id": "edge-123",
            "relationship": "DIRECTED",
            "source": "node-59",
            "target": "node-92"
           },
           {
            "id": "edge-150",
            "relationship": "DIRECTED",
            "source": "node-115",
            "target": "node-111"
           },
           {
            "id": "edge-156",
            "relationship": "DIRECTED",
            "source": "node-25",
            "target": "node-116"
           },
           {
            "id": "edge-231",
            "relationship": "DIRECTED",
            "source": "node-96",
            "target": "node-159"
           },
           {
            "id": "edge-170",
            "relationship": "DIRECTED",
            "source": "node-6",
            "target": "node-121"
           },
           {
            "id": "edge-169",
            "relationship": "DIRECTED",
            "source": "node-5",
            "target": "node-121"
           },
           {
            "id": "edge-196",
            "relationship": "DIRECTED",
            "source": "node-115",
            "target": "node-137"
           },
           {
            "id": "edge-178",
            "relationship": "DIRECTED",
            "source": "node-25",
            "target": "node-128"
           },
           {
            "id": "edge-141",
            "relationship": "DIRECTED",
            "source": "node-108",
            "target": "node-105"
           },
           {
            "id": "edge-143",
            "relationship": "DIRECTED",
            "source": "node-6",
            "target": "node-105"
           },
           {
            "id": "edge-142",
            "relationship": "DIRECTED",
            "source": "node-5",
            "target": "node-105"
           }
          ],
          "metadata": {
           "title": "neo4j graph"
          },
          "nodes": [
           {
            "born": 1965,
            "id": "node-6",
            "labels": "Person",
            "name": "Lana Wachowski"
           },
           {
            "id": "node-9",
            "labels": "Movie",
            "released": 2003,
            "tagline": "Free your mind",
            "title": "The Matrix Reloaded"
           },
           {
            "born": 1967,
            "id": "node-5",
            "labels": "Person",
            "name": "Lilly Wachowski"
           },
           {
            "id": "node-10",
            "labels": "Movie",
            "released": 2003,
            "tagline": "Everything that has a beginning has an end",
            "title": "The Matrix Revolutions"
           },
           {
            "born": 1949,
            "id": "node-156",
            "labels": "Person",
            "name": "Nancy Meyers"
           },
           {
            "id": "node-154",
            "labels": "Movie",
            "released": 2003,
            "title": "Something's Gotta Give"
           },
           {
            "born": 1951,
            "id": "node-151",
            "labels": "Person",
            "name": "Robert Zemeckis"
           },
           {
            "id": "node-161",
            "labels": "Movie",
            "released": 2004,
            "tagline": "This Holiday Season… Believe",
            "title": "The Polar Express"
           },
           {
            "born": 1942,
            "id": "node-59",
            "labels": "Person",
            "name": "Werner Herzog"
           },
           {
            "id": "node-92",
            "labels": "Movie",
            "released": 2006,
            "tagline": "Based on the extraordinary true story of one man's fight for freedom",
            "title": "RescueDawn"
           },
           {
            "born": 1954,
            "id": "node-115",
            "labels": "Person",
            "name": "Ron Howard"
           },
           {
            "id": "node-111",
            "labels": "Movie",
            "released": 2006,
            "tagline": "Break The Codes",
            "title": "The Da Vinci Code"
           },
           {
            "born": 1967,
            "id": "node-25",
            "labels": "Person",
            "name": "James Marshall"
           },
           {
            "id": "node-116",
            "labels": "Movie",
            "released": 2006,
            "tagline": "Freedom! Forever!",
            "title": "V for Vendetta"
           },
           {
            "born": 1931,
            "id": "node-96",
            "labels": "Person",
            "name": "Mike Nichols"
           },
           {
            "id": "node-159",
            "labels": "Movie",
            "released": 2007,
            "tagline": "A stiff drink. A little mascara. A lot of nerve. Who said they couldn't bring down the Soviet empire.",
            "title": "Charlie Wilson's War"
           },
           {
            "id": "node-121",
            "labels": "Movie",
            "released": 2008,
            "tagline": "Speed has no limits",
            "title": "Speed Racer"
           },
           {
            "id": "node-137",
            "labels": "Movie",
            "released": 2008,
            "tagline": "400 million people were waiting for the truth.",
            "title": "Frost/Nixon"
           },
           {
            "id": "node-128",
            "labels": "Movie",
            "released": 2009,
            "tagline": "Prepare to enter a secret world of assassins",
            "title": "Ninja Assassin"
           },
           {
            "born": 1965,
            "id": "node-108",
            "labels": "Person",
            "name": "Tom Tykwer"
           },
           {
            "id": "node-105",
            "labels": "Movie",
            "released": 2012,
            "tagline": "Everything is connected",
            "title": "Cloud Atlas"
           }
          ]
         }
        ],
        "style": {}
       }
      }
     }
    },
    "version_major": 2,
    "version_minor": 0
   }
  }
 },
 "nbformat": 4,
 "nbformat_minor": 5
}
