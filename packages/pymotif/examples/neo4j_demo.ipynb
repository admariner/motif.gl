{
 "cells": [
  {
   "cell_type": "markdown",
   "id": "05461b94-3b60-40c0-90c1-8e072004cbe8",
   "metadata": {},
   "source": [
    "# Neo4j Demo"
   ]
  },
  {
   "cell_type": "code",
   "execution_count": 1,
   "id": "c6584545-1f97-488f-89d7-663212849c84",
   "metadata": {},
   "outputs": [],
   "source": [
    "from pymotif import Motif\n",
    "\n",
    "import neo4j\n",
    "import networkx as nx"
   ]
  },
  {
   "cell_type": "markdown",
   "id": "fa0668a2-61c9-4d3e-9d77-ebc5ee68ee48",
   "metadata": {},
   "source": [
    "## Movies Dataset"
   ]
  },
  {
   "cell_type": "code",
   "execution_count": 5,
   "id": "ce3725f3-98dc-4e9c-98ff-b9567d4e0ce3",
   "metadata": {},
   "outputs": [],
   "source": [
    "# neo4j sandbox\n",
    "movies_uri = 'bolt://35.170.33.46:7687'\n",
    "movies_auth = ('neo4j', 'clothing-chairmen-stings')\n",
    "movies_driver = neo4j.GraphDatabase.driver(uri=movies_uri, auth=movies_auth)\n",
    "\n",
    "movies_query = 'MATCH (p:Person)-[r]->(m:Movie) RETURN * LIMIT 20'\n",
    "\n",
    "# get query results and create a Motif object from it\n",
    "movies_results = movies_driver.session().run(movies_query)\n",
    "movies = Motif(neo4j_graph=movies_results.graph(), title='movies neo4j graph')"
   ]
  },
  {
   "cell_type": "code",
   "execution_count": 11,
   "id": "6300653c-21e8-4281-8754-5cd7a47fe7a4",
   "metadata": {},
   "outputs": [
    {
     "data": {
      "application/vnd.jupyter.widget-view+json": {
       "model_id": "ed39f1f2ad8a4374b0ba1645d77b6e7f",
       "version_major": 2,
       "version_minor": 0
      },
      "text/plain": [
       "Motif(value=None, layout=Layout(height='600px', width='100%'), state={'data': [{'nodes': [{'tagline': 'Welcome…"
      ]
     },
     "metadata": {},
     "output_type": "display_data"
    }
   ],
   "source": [
    "# plot the neo4j graph\n",
    "movies.plot()"
   ]
  },
  {
   "cell_type": "markdown",
   "id": "14303ae1-da1e-4bd2-8647-ca4cbe624bd6",
   "metadata": {},
   "source": [
    "## Fraud Detection Dataset (Paysim)"
   ]
  },
  {
   "cell_type": "code",
   "execution_count": 6,
   "id": "b75b7c6d-b562-44f4-b8d0-2f06e1bdb4c9",
   "metadata": {},
   "outputs": [],
   "source": [
    "# neo4j sandbox\n",
    "paysim_uri = 'bolt://3.91.239.62:7687'\n",
    "paysim_auth = ('neo4j', 'lanes-reasons-monitors')\n",
    "paysim_driver = neo4j.GraphDatabase.driver(uri=paysim_uri,auth=paysim_auth)\n",
    "\n",
    "paysim_query = '''\n",
    "    MATCH (m:Merchant)<-[:TO]-(r1:Transaction)<-[r2:PERFORMED]-(c:Client) RETURN * LIMIT 20\n",
    "'''\n",
    "\n",
    "# get query results and create a Motif object from it\n",
    "paysim_results = paysim_driver.session().run(paysim_query)\n",
    "paysim = Motif(neo4j_graph=paysim_results.graph(), title='paysim neo4j graph')"
   ]
  },
  {
   "cell_type": "code",
   "execution_count": 10,
   "id": "3e7d3220-ce72-4836-854e-8d48b1d262a6",
   "metadata": {},
   "outputs": [
    {
     "data": {
      "application/vnd.jupyter.widget-view+json": {
       "model_id": "d9bf853452604525a53fcb7a3f10802e",
       "version_major": 2,
       "version_minor": 0
      },
      "text/plain": [
       "Motif(value=None, layout=Layout(height='600px', width='100%'), state={'data': [{'nodes': [{'name': 'Gianna Gla…"
      ]
     },
     "metadata": {},
     "output_type": "display_data"
    }
   ],
   "source": [
    "# plot the neo4j graph\n",
    "paysim.plot()"
   ]
  },
  {
   "cell_type": "markdown",
   "id": "9370f13a-1a83-44e0-8772-9a0aed914127",
   "metadata": {},
   "source": [
    "## Create Own Dataset (Football)"
   ]
  },
  {
   "cell_type": "code",
   "execution_count": 9,
   "id": "463b0dc6-c851-419a-ab6f-4f6c90b1d704",
   "metadata": {},
   "outputs": [],
   "source": [
    "# ref: https://neo4j.com/labs/apoc/4.1/graph-querying/path-querying/#path-functions-examples\n",
    "\n",
    "# neo4j sandbox\n",
    "football_uri = 'bolt://3.92.2.20:7687'\n",
    "football_auth = ('neo4j', 'lapse-rheostats-tumbles')\n",
    "football_driver = neo4j.GraphDatabase.driver(uri=football_uri,auth=football_auth)\n",
    "\n",
    "football_insert = '''\n",
    "    MERGE (manUtd:Club {name: 'Man Utd'})\n",
    "    MERGE (juventus:Club {name: 'Juventus'})\n",
    "    MERGE (flamengo:Club {name: 'Flamengo'})\n",
    "\n",
    "    MERGE (premierLeague:League {name: 'Premier League'})\n",
    "    MERGE (serieA:League {name: 'Serie A'})\n",
    "    MERGE (brasileirao:League {name: 'Brasileirão'})\n",
    "\n",
    "    MERGE (england:Country {name: 'England'})\n",
    "    MERGE (brazil:Country {name: 'Brazil'})\n",
    "\n",
    "    MERGE (uefa:Confederation {name: 'UEFA'})\n",
    "\n",
    "    MERGE (manUtd)-[:IN_LEAGUE]->(premierLeague)\n",
    "    MERGE (premierLeague)-[:IN_COUNTRY]->(england)\n",
    "    MERGE (england)-[:IN_CONFEDERATION]->(uefa)\n",
    "\n",
    "    MERGE (juventus)-[:IN_LEAGUE]->(serieA)\n",
    "\n",
    "    MERGE (flamengo)-[:IN_LEAGUE]->(brasileirao)\n",
    "    MERGE (brasileirao)-[:IN_COUNTRY]->(brazil);\n",
    "'''\n",
    "\n",
    "# football_driver.session().run(football_insert)\n",
    "\n",
    "# path query\n",
    "football_query = '''\n",
    "    MATCH (club:Club)\n",
    "    OPTIONAL MATCH (club)-[inLeague:IN_LEAGUE]->(league)\n",
    "    OPTIONAL MATCH (league)-[inCountry:IN_COUNTRY]->(country)\n",
    "    OPTIONAL MATCH (country)-[inConfederation:IN_CONFEDERATION]->(confederation)\n",
    "    RETURN club.name, apoc.path.create(club, [inLeague, inCountry, inConfederation]) AS path\n",
    "    ORDER BY length(path);\n",
    "'''\n",
    "\n",
    "# get query results and create a Motif object from it\n",
    "football_results = football_driver.session().run(football_query)\n",
    "football = Motif(neo4j_graph=football_results.graph(), title='football neo4j graph')"
   ]
  },
  {
   "cell_type": "code",
   "execution_count": 8,
   "id": "284b620d-3b71-46d0-8798-b7486055a6cb",
   "metadata": {},
   "outputs": [
    {
     "data": {
      "application/vnd.jupyter.widget-view+json": {
       "model_id": "36c4f82ecec3492aa859cd2a80895135",
       "version_major": 2,
       "version_minor": 0
      },
      "text/plain": [
       "Motif(value=None, layout=Layout(height='600px', width='100%'), state={'data': [{'nodes': [{'name': 'Juventus',…"
      ]
     },
     "metadata": {},
     "output_type": "display_data"
    }
   ],
   "source": [
    "# plot the neo4j graph\n",
    "football.plot()"
   ]
  },
  {
   "cell_type": "code",
   "execution_count": 12,
   "id": "cbf311da-3438-40ab-a6e3-3e82707e4ba8",
   "metadata": {},
   "outputs": [],
   "source": [
    "# Close connections\n",
    "movies_driver.close()\n",
    "paysim_driver.close()\n",
    "football_driver.close()"
   ]
  },
  {
   "cell_type": "markdown",
   "id": "25d58d7c-6047-491c-b170-f998c3daa8d1",
   "metadata": {},
   "source": [
    "## Try It Yourself\n",
    "\n",
    "Connect to your own Neo4j database, issue queries, and plot your results in Motif!"
   ]
  },
  {
   "cell_type": "code",
   "execution_count": 14,
   "id": "985b1144-26e3-4ddb-b229-887b47515eab",
   "metadata": {},
   "outputs": [],
   "source": [
    "uri = # YOUR_URI\n",
    "auth = # YOUR_AUTH_DETAILS\n",
    "query = # YOUR_QUERY\n",
    "\n",
    "# get query results and create a Motif object from it\n",
    "driver = neo4j.GraphDatabase.driver(uri=uri,auth=auth)\n",
    "results = driver.session().run(query)\n",
    "motif = Motif(neo4j_graph=results.graph(), title='my neo4j graph')\n",
    "\n",
    "motif.plot()"
   ]
  },
  {
   "cell_type": "code",
   "execution_count": null,
   "id": "85e8c610-d83b-4f0d-b48d-cb533b816c75",
   "metadata": {},
   "outputs": [],
   "source": [
    "# Close connection\n",
    "driver.close()"
   ]
  }
 ],
 "metadata": {
  "kernelspec": {
   "display_name": "Python 3",
   "language": "python",
   "name": "python3"
  },
  "language_info": {
   "codemirror_mode": {
    "name": "ipython",
    "version": 3
   },
   "file_extension": ".py",
   "mimetype": "text/x-python",
   "name": "python",
   "nbconvert_exporter": "python",
   "pygments_lexer": "ipython3",
   "version": "3.9.4"
  },
  "widgets": {
   "application/vnd.jupyter.widget-state+json": {
    "state": {
     "36c4f82ecec3492aa859cd2a80895135": {
      "model_module": "@cylynx/pymotif",
      "model_module_version": "^0.0.1-beta.3",
      "model_name": "MotifModel",
      "state": {
       "_model_module_version": "^0.0.1-beta.3",
       "_view_module_version": "^0.0.1-beta.3",
       "group_edges": true,
       "layout": "IPY_MODEL_f9e9b18d64914effbea5f55889b074f7",
       "state": {
        "data": [
         {
          "edges": [
           {
            "id": "edge-3",
            "relationship": "IN_LEAGUE",
            "source": "node-1",
            "target": "node-4"
           },
           {
            "id": "edge-4",
            "relationship": "IN_LEAGUE",
            "source": "node-2",
            "target": "node-5"
           },
           {
            "id": "edge-5",
            "relationship": "IN_COUNTRY",
            "source": "node-5",
            "target": "node-7"
           },
           {
            "id": "edge-0",
            "relationship": "IN_LEAGUE",
            "source": "node-0",
            "target": "node-3"
           },
           {
            "id": "edge-1",
            "relationship": "IN_COUNTRY",
            "source": "node-3",
            "target": "node-6"
           },
           {
            "id": "edge-2",
            "relationship": "IN_CONFEDERATION",
            "source": "node-6",
            "target": "node-8"
           }
          ],
          "metadata": {
           "title": "football neo4j graph"
          },
          "nodes": [
           {
            "id": "node-1",
            "labels": "Club",
            "name": "Juventus"
           },
           {
            "id": "node-4",
            "labels": "League",
            "name": "Serie A"
           },
           {
            "id": "node-2",
            "labels": "Club",
            "name": "Flamengo"
           },
           {
            "id": "node-5",
            "labels": "League",
            "name": "Brasileirão"
           },
           {
            "id": "node-7",
            "labels": "Country",
            "name": "Brazil"
           },
           {
            "id": "node-0",
            "labels": "Club",
            "name": "Man Utd"
           },
           {
            "id": "node-3",
            "labels": "League",
            "name": "Premier League"
           },
           {
            "id": "node-6",
            "labels": "Country",
            "name": "England"
           },
           {
            "id": "node-8",
            "labels": "Confederation",
            "name": "UEFA"
           }
          ]
         }
        ],
        "style": {}
       }
      }
     },
     "922d949851de49e88e501ef9aa6584cc": {
      "model_module": "@cylynx/pymotif",
      "model_module_version": "^0.0.1-beta.3",
      "model_name": "MotifModel",
      "state": {
       "_model_module_version": "^0.0.1-beta.3",
       "_view_module_version": "^0.0.1-beta.3",
       "group_edges": true,
       "layout": "IPY_MODEL_f9e9b18d64914effbea5f55889b074f7",
       "state": {
        "data": [
         {
          "edges": [
           {
            "id": "edge-646222",
            "relationship": "PERFORMED",
            "source": "node-1725",
            "target": "node-325946"
           },
           {
            "id": "edge-645816",
            "relationship": "PERFORMED",
            "source": "node-174",
            "target": "node-325735"
           },
           {
            "id": "edge-645164",
            "relationship": "PERFORMED",
            "source": "node-4786",
            "target": "node-325406"
           },
           {
            "id": "edge-641064",
            "relationship": "PERFORMED",
            "source": "node-470",
            "target": "node-323305"
           },
           {
            "id": "edge-640148",
            "relationship": "PERFORMED",
            "source": "node-1209",
            "target": "node-322825"
           },
           {
            "id": "edge-639414",
            "relationship": "PERFORMED",
            "source": "node-2327",
            "target": "node-322455"
           },
           {
            "id": "edge-638322",
            "relationship": "PERFORMED",
            "source": "node-4303",
            "target": "node-321901"
           },
           {
            "id": "edge-638182",
            "relationship": "PERFORMED",
            "source": "node-443",
            "target": "node-321830"
           },
           {
            "id": "edge-637966",
            "relationship": "PERFORMED",
            "source": "node-4275",
            "target": "node-321721"
           },
           {
            "id": "edge-637184",
            "relationship": "PERFORMED",
            "source": "node-2859",
            "target": "node-321330"
           },
           {
            "id": "edge-636782",
            "relationship": "PERFORMED",
            "source": "node-2414",
            "target": "node-321129"
           },
           {
            "id": "edge-636688",
            "relationship": "PERFORMED",
            "source": "node-815",
            "target": "node-321082"
           },
           {
            "id": "edge-635230",
            "relationship": "PERFORMED",
            "source": "node-1374",
            "target": "node-320344"
           },
           {
            "id": "edge-634118",
            "relationship": "PERFORMED",
            "source": "node-991",
            "target": "node-319776"
           },
           {
            "id": "edge-634192",
            "relationship": "PERFORMED",
            "source": "node-2773",
            "target": "node-319814"
           },
           {
            "id": "edge-633994",
            "relationship": "PERFORMED",
            "source": "node-1721",
            "target": "node-319713"
           },
           {
            "id": "edge-632134",
            "relationship": "PERFORMED",
            "source": "node-2727",
            "target": "node-318762"
           },
           {
            "id": "edge-632752",
            "relationship": "PERFORMED",
            "source": "node-1312",
            "target": "node-319077"
           },
           {
            "id": "edge-628394",
            "relationship": "PERFORMED",
            "source": "node-1542",
            "target": "node-316885"
           },
           {
            "id": "edge-627310",
            "relationship": "PERFORMED",
            "source": "node-5498",
            "target": "node-316340"
           }
          ],
          "metadata": {
           "title": "paysim neo4j graph"
          },
          "nodes": [
           {
            "id": "node-1725",
            "labels": "Client",
            "name": "Gianna Glass"
           },
           {
            "id": "node-1",
            "labels": "Merchant",
            "name": "MYrsa"
           },
           {
            "amount": 4516.113305246528,
            "fraud": false,
            "globalStep": 323112,
            "id": "node-325946",
            "labels": "Payment",
            "step": 709,
            "ts": 709
           },
           {
            "id": "node-174",
            "labels": "Client",
            "name": "Brody Snyder"
           },
           {
            "amount": 2943.480876986425,
            "fraud": false,
            "globalStep": 322909,
            "id": "node-325735",
            "labels": "Payment",
            "step": 694,
            "ts": 694
           },
           {
            "id": "node-4786",
            "labels": "Client",
            "name": "Joseph Haney"
           },
           {
            "amount": 39106.45297194662,
            "fraud": false,
            "globalStep": 322583,
            "id": "node-325406",
            "labels": "CashOut",
            "step": 688,
            "ts": 688
           },
           {
            "id": "node-470",
            "labels": "Client",
            "name": "Aaliyah Hale"
           },
           {
            "amount": 1774.0003789091415,
            "fraud": false,
            "globalStep": 320533,
            "id": "node-323305",
            "labels": "Payment",
            "step": 573,
            "ts": 573
           },
           {
            "id": "node-1209",
            "labels": "Client",
            "name": "Hailey Guzman"
           },
           {
            "amount": 8480.358054109834,
            "fraud": false,
            "globalStep": 320075,
            "id": "node-322825",
            "labels": "Payment",
            "step": 550,
            "ts": 550
           },
           {
            "id": "node-2327",
            "labels": "Client",
            "name": "Faith Sloan"
           },
           {
            "amount": 154301.15349197332,
            "fraud": false,
            "globalStep": 319708,
            "id": "node-322455",
            "labels": "Transaction",
            "step": 546,
            "ts": 546
           },
           {
            "id": "node-4303",
            "labels": "Client",
            "name": "Benjamin Barry"
           },
           {
            "amount": 8264.344727585905,
            "fraud": false,
            "globalStep": 319162,
            "id": "node-321901",
            "labels": "Payment",
            "step": 527,
            "ts": 527
           },
           {
            "id": "node-443",
            "labels": "Client",
            "name": "Emma Christian"
           },
           {
            "amount": 3374.920368563592,
            "fraud": false,
            "globalStep": 319092,
            "id": "node-321830",
            "labels": "Payment",
            "step": 526,
            "ts": 526
           },
           {
            "id": "node-4275",
            "labels": "Client",
            "name": "Aaliyah Morgan"
           },
           {
            "amount": 28237.478244959493,
            "fraud": false,
            "globalStep": 318984,
            "id": "node-321721",
            "labels": "Payment",
            "step": 525,
            "ts": 525
           },
           {
            "id": "node-2859",
            "labels": "Client",
            "name": "Genesis Olsen"
           },
           {
            "amount": 142174.50675578802,
            "fraud": false,
            "globalStep": 318593,
            "id": "node-321330",
            "labels": "Transaction",
            "step": 522,
            "ts": 522
           },
           {
            "id": "node-2414",
            "labels": "Client",
            "name": "Bentley Rosario"
           },
           {
            "amount": 95053.79752685537,
            "fraud": false,
            "globalStep": 318392,
            "id": "node-321129",
            "labels": "Transaction",
            "step": 522,
            "ts": 522
           },
           {
            "id": "node-815",
            "labels": "Client",
            "name": "Gabriella Figueroa"
           },
           {
            "amount": 45256.642200958566,
            "fraud": false,
            "globalStep": 318345,
            "id": "node-321082",
            "labels": "CashOut",
            "step": 520,
            "ts": 520
           },
           {
            "id": "node-1374",
            "labels": "Client",
            "name": "Sarah Gibson"
           },
           {
            "amount": 158094.54748354596,
            "fraud": false,
            "globalStep": 317616,
            "id": "node-320344",
            "labels": "Transaction",
            "step": 493,
            "ts": 493
           },
           {
            "id": "node-991",
            "labels": "Client",
            "name": "Alexa Blair"
           },
           {
            "amount": 20293.929985915223,
            "fraud": false,
            "globalStep": 317060,
            "id": "node-319776",
            "labels": "Transaction",
            "step": 469,
            "ts": 469
           },
           {
            "id": "node-2773",
            "labels": "Client",
            "name": "Layla Floyd"
           },
           {
            "amount": 18978.531950327742,
            "fraud": false,
            "globalStep": 317097,
            "id": "node-319814",
            "labels": "Payment",
            "step": 471,
            "ts": 471
           },
           {
            "id": "node-1721",
            "labels": "Client",
            "name": "Molly Guthrie"
           },
           {
            "amount": 156319.94645191505,
            "fraud": false,
            "globalStep": 316998,
            "id": "node-319713",
            "labels": "CashOut",
            "step": 469,
            "ts": 469
           },
           {
            "id": "node-2727",
            "labels": "Client",
            "name": "Xavier Marsh"
           },
           {
            "amount": 1091.0079380125144,
            "fraud": false,
            "globalStep": 316068,
            "id": "node-318762",
            "labels": "Payment",
            "step": 408,
            "ts": 408
           },
           {
            "id": "node-1312",
            "labels": "Client",
            "name": "Taylor Vincent"
           },
           {
            "amount": 220292.59529583552,
            "fraud": false,
            "globalStep": 316377,
            "id": "node-319077",
            "labels": "Transaction",
            "step": 426,
            "ts": 426
           },
           {
            "id": "node-1542",
            "labels": "Client",
            "name": "Lucy Simon"
           },
           {
            "amount": 231836.6509443662,
            "fraud": false,
            "globalStep": 314198,
            "id": "node-316885",
            "labels": "Transaction",
            "step": 384,
            "ts": 384
           },
           {
            "id": "node-5498",
            "labels": "Client",
            "name": "Annabelle Richards"
           },
           {
            "amount": 2416.1906202032164,
            "fraud": false,
            "globalStep": 313656,
            "id": "node-316340",
            "labels": "Payment",
            "step": 382,
            "ts": 382
           }
          ]
         }
        ],
        "style": {}
       }
      }
     },
     "c46e4b662b654290baf76e876feebfed": {
      "model_module": "@cylynx/pymotif",
      "model_module_version": "^0.0.1-beta.3",
      "model_name": "MotifModel",
      "state": {
       "_model_module_version": "^0.0.1-beta.3",
       "_view_module_version": "^0.0.1-beta.3",
       "group_edges": true,
       "layout": "IPY_MODEL_f9e9b18d64914effbea5f55889b074f7",
       "state": {
        "data": [
         {
          "edges": [
           {
            "id": "edge-7",
            "relationship": "ACTED_IN",
            "roles": [
             "Emil"
            ],
            "source": "node-8",
            "target": "node-0"
           },
           {
            "id": "edge-6",
            "relationship": "PRODUCED",
            "source": "node-7",
            "target": "node-0"
           },
           {
            "id": "edge-5",
            "relationship": "DIRECTED",
            "source": "node-6",
            "target": "node-0"
           },
           {
            "id": "edge-4",
            "relationship": "DIRECTED",
            "source": "node-5",
            "target": "node-0"
           },
           {
            "id": "edge-3",
            "relationship": "ACTED_IN",
            "roles": [
             "Agent Smith"
            ],
            "source": "node-4",
            "target": "node-0"
           },
           {
            "id": "edge-2",
            "relationship": "ACTED_IN",
            "roles": [
             "Morpheus"
            ],
            "source": "node-3",
            "target": "node-0"
           },
           {
            "id": "edge-1",
            "relationship": "ACTED_IN",
            "roles": [
             "Trinity"
            ],
            "source": "node-2",
            "target": "node-0"
           },
           {
            "id": "edge-0",
            "relationship": "ACTED_IN",
            "roles": [
             "Neo"
            ],
            "source": "node-1",
            "target": "node-0"
           },
           {
            "id": "edge-14",
            "relationship": "PRODUCED",
            "source": "node-7",
            "target": "node-9"
           },
           {
            "id": "edge-13",
            "relationship": "DIRECTED",
            "source": "node-6",
            "target": "node-9"
           },
           {
            "id": "edge-12",
            "relationship": "DIRECTED",
            "source": "node-5",
            "target": "node-9"
           },
           {
            "id": "edge-11",
            "relationship": "ACTED_IN",
            "roles": [
             "Agent Smith"
            ],
            "source": "node-4",
            "target": "node-9"
           },
           {
            "id": "edge-10",
            "relationship": "ACTED_IN",
            "roles": [
             "Morpheus"
            ],
            "source": "node-3",
            "target": "node-9"
           },
           {
            "id": "edge-9",
            "relationship": "ACTED_IN",
            "roles": [
             "Trinity"
            ],
            "source": "node-2",
            "target": "node-9"
           },
           {
            "id": "edge-8",
            "relationship": "ACTED_IN",
            "roles": [
             "Neo"
            ],
            "source": "node-1",
            "target": "node-9"
           },
           {
            "id": "edge-21",
            "relationship": "PRODUCED",
            "source": "node-7",
            "target": "node-10"
           },
           {
            "id": "edge-20",
            "relationship": "DIRECTED",
            "source": "node-6",
            "target": "node-10"
           },
           {
            "id": "edge-19",
            "relationship": "DIRECTED",
            "source": "node-5",
            "target": "node-10"
           },
           {
            "id": "edge-18",
            "relationship": "ACTED_IN",
            "roles": [
             "Agent Smith"
            ],
            "source": "node-4",
            "target": "node-10"
           },
           {
            "id": "edge-17",
            "relationship": "ACTED_IN",
            "roles": [
             "Morpheus"
            ],
            "source": "node-3",
            "target": "node-10"
           }
          ],
          "metadata": {
           "title": "movies neo4j graph"
          },
          "nodes": [
           {
            "id": "node-0",
            "labels": "Movie",
            "released": 1999,
            "tagline": "Welcome to the Real World",
            "title": "The Matrix"
           },
           {
            "born": 1978,
            "id": "node-8",
            "labels": "Person",
            "name": "Emil Eifrem"
           },
           {
            "born": 1952,
            "id": "node-7",
            "labels": "Person",
            "name": "Joel Silver"
           },
           {
            "born": 1965,
            "id": "node-6",
            "labels": "Person",
            "name": "Lana Wachowski"
           },
           {
            "born": 1967,
            "id": "node-5",
            "labels": "Person",
            "name": "Lilly Wachowski"
           },
           {
            "born": 1960,
            "id": "node-4",
            "labels": "Person",
            "name": "Hugo Weaving"
           },
           {
            "born": 1961,
            "id": "node-3",
            "labels": "Person",
            "name": "Laurence Fishburne"
           },
           {
            "born": 1967,
            "id": "node-2",
            "labels": "Person",
            "name": "Carrie-Anne Moss"
           },
           {
            "born": 1964,
            "id": "node-1",
            "labels": "Person",
            "name": "Keanu Reeves"
           },
           {
            "id": "node-9",
            "labels": "Movie",
            "released": 2003,
            "tagline": "Free your mind",
            "title": "The Matrix Reloaded"
           },
           {
            "id": "node-10",
            "labels": "Movie",
            "released": 2003,
            "tagline": "Everything that has a beginning has an end",
            "title": "The Matrix Revolutions"
           }
          ]
         }
        ],
        "style": {}
       }
      }
     },
     "d9bf853452604525a53fcb7a3f10802e": {
      "model_module": "@cylynx/pymotif",
      "model_module_version": "^0.0.1-beta.3",
      "model_name": "MotifModel",
      "state": {
       "_model_module_version": "^0.0.1-beta.3",
       "_view_module_version": "^0.0.1-beta.3",
       "group_edges": true,
       "layout": "IPY_MODEL_f9e9b18d64914effbea5f55889b074f7",
       "state": {
        "data": [
         {
          "edges": [
           {
            "id": "edge-646222",
            "relationship": "PERFORMED",
            "source": "node-1725",
            "target": "node-325946"
           },
           {
            "id": "edge-645816",
            "relationship": "PERFORMED",
            "source": "node-174",
            "target": "node-325735"
           },
           {
            "id": "edge-645164",
            "relationship": "PERFORMED",
            "source": "node-4786",
            "target": "node-325406"
           },
           {
            "id": "edge-641064",
            "relationship": "PERFORMED",
            "source": "node-470",
            "target": "node-323305"
           },
           {
            "id": "edge-640148",
            "relationship": "PERFORMED",
            "source": "node-1209",
            "target": "node-322825"
           },
           {
            "id": "edge-639414",
            "relationship": "PERFORMED",
            "source": "node-2327",
            "target": "node-322455"
           },
           {
            "id": "edge-638322",
            "relationship": "PERFORMED",
            "source": "node-4303",
            "target": "node-321901"
           },
           {
            "id": "edge-638182",
            "relationship": "PERFORMED",
            "source": "node-443",
            "target": "node-321830"
           },
           {
            "id": "edge-637966",
            "relationship": "PERFORMED",
            "source": "node-4275",
            "target": "node-321721"
           },
           {
            "id": "edge-637184",
            "relationship": "PERFORMED",
            "source": "node-2859",
            "target": "node-321330"
           },
           {
            "id": "edge-636782",
            "relationship": "PERFORMED",
            "source": "node-2414",
            "target": "node-321129"
           },
           {
            "id": "edge-636688",
            "relationship": "PERFORMED",
            "source": "node-815",
            "target": "node-321082"
           },
           {
            "id": "edge-635230",
            "relationship": "PERFORMED",
            "source": "node-1374",
            "target": "node-320344"
           },
           {
            "id": "edge-634118",
            "relationship": "PERFORMED",
            "source": "node-991",
            "target": "node-319776"
           },
           {
            "id": "edge-634192",
            "relationship": "PERFORMED",
            "source": "node-2773",
            "target": "node-319814"
           },
           {
            "id": "edge-633994",
            "relationship": "PERFORMED",
            "source": "node-1721",
            "target": "node-319713"
           },
           {
            "id": "edge-632134",
            "relationship": "PERFORMED",
            "source": "node-2727",
            "target": "node-318762"
           },
           {
            "id": "edge-632752",
            "relationship": "PERFORMED",
            "source": "node-1312",
            "target": "node-319077"
           },
           {
            "id": "edge-628394",
            "relationship": "PERFORMED",
            "source": "node-1542",
            "target": "node-316885"
           },
           {
            "id": "edge-627310",
            "relationship": "PERFORMED",
            "source": "node-5498",
            "target": "node-316340"
           }
          ],
          "metadata": {
           "title": "paysim neo4j graph"
          },
          "nodes": [
           {
            "id": "node-1725",
            "labels": "Client",
            "name": "Gianna Glass"
           },
           {
            "id": "node-1",
            "labels": "Merchant",
            "name": "MYrsa"
           },
           {
            "amount": 4516.113305246528,
            "fraud": false,
            "globalStep": 323112,
            "id": "node-325946",
            "labels": "Payment",
            "step": 709,
            "ts": 709
           },
           {
            "id": "node-174",
            "labels": "Client",
            "name": "Brody Snyder"
           },
           {
            "amount": 2943.480876986425,
            "fraud": false,
            "globalStep": 322909,
            "id": "node-325735",
            "labels": "Payment",
            "step": 694,
            "ts": 694
           },
           {
            "id": "node-4786",
            "labels": "Client",
            "name": "Joseph Haney"
           },
           {
            "amount": 39106.45297194662,
            "fraud": false,
            "globalStep": 322583,
            "id": "node-325406",
            "labels": "CashOut",
            "step": 688,
            "ts": 688
           },
           {
            "id": "node-470",
            "labels": "Client",
            "name": "Aaliyah Hale"
           },
           {
            "amount": 1774.0003789091415,
            "fraud": false,
            "globalStep": 320533,
            "id": "node-323305",
            "labels": "Payment",
            "step": 573,
            "ts": 573
           },
           {
            "id": "node-1209",
            "labels": "Client",
            "name": "Hailey Guzman"
           },
           {
            "amount": 8480.358054109834,
            "fraud": false,
            "globalStep": 320075,
            "id": "node-322825",
            "labels": "Payment",
            "step": 550,
            "ts": 550
           },
           {
            "id": "node-2327",
            "labels": "Client",
            "name": "Faith Sloan"
           },
           {
            "amount": 154301.15349197332,
            "fraud": false,
            "globalStep": 319708,
            "id": "node-322455",
            "labels": "Transaction",
            "step": 546,
            "ts": 546
           },
           {
            "id": "node-4303",
            "labels": "Client",
            "name": "Benjamin Barry"
           },
           {
            "amount": 8264.344727585905,
            "fraud": false,
            "globalStep": 319162,
            "id": "node-321901",
            "labels": "Payment",
            "step": 527,
            "ts": 527
           },
           {
            "id": "node-443",
            "labels": "Client",
            "name": "Emma Christian"
           },
           {
            "amount": 3374.920368563592,
            "fraud": false,
            "globalStep": 319092,
            "id": "node-321830",
            "labels": "Payment",
            "step": 526,
            "ts": 526
           },
           {
            "id": "node-4275",
            "labels": "Client",
            "name": "Aaliyah Morgan"
           },
           {
            "amount": 28237.478244959493,
            "fraud": false,
            "globalStep": 318984,
            "id": "node-321721",
            "labels": "Payment",
            "step": 525,
            "ts": 525
           },
           {
            "id": "node-2859",
            "labels": "Client",
            "name": "Genesis Olsen"
           },
           {
            "amount": 142174.50675578802,
            "fraud": false,
            "globalStep": 318593,
            "id": "node-321330",
            "labels": "Transaction",
            "step": 522,
            "ts": 522
           },
           {
            "id": "node-2414",
            "labels": "Client",
            "name": "Bentley Rosario"
           },
           {
            "amount": 95053.79752685537,
            "fraud": false,
            "globalStep": 318392,
            "id": "node-321129",
            "labels": "Transaction",
            "step": 522,
            "ts": 522
           },
           {
            "id": "node-815",
            "labels": "Client",
            "name": "Gabriella Figueroa"
           },
           {
            "amount": 45256.642200958566,
            "fraud": false,
            "globalStep": 318345,
            "id": "node-321082",
            "labels": "CashOut",
            "step": 520,
            "ts": 520
           },
           {
            "id": "node-1374",
            "labels": "Client",
            "name": "Sarah Gibson"
           },
           {
            "amount": 158094.54748354596,
            "fraud": false,
            "globalStep": 317616,
            "id": "node-320344",
            "labels": "Transaction",
            "step": 493,
            "ts": 493
           },
           {
            "id": "node-991",
            "labels": "Client",
            "name": "Alexa Blair"
           },
           {
            "amount": 20293.929985915223,
            "fraud": false,
            "globalStep": 317060,
            "id": "node-319776",
            "labels": "Transaction",
            "step": 469,
            "ts": 469
           },
           {
            "id": "node-2773",
            "labels": "Client",
            "name": "Layla Floyd"
           },
           {
            "amount": 18978.531950327742,
            "fraud": false,
            "globalStep": 317097,
            "id": "node-319814",
            "labels": "Payment",
            "step": 471,
            "ts": 471
           },
           {
            "id": "node-1721",
            "labels": "Client",
            "name": "Molly Guthrie"
           },
           {
            "amount": 156319.94645191505,
            "fraud": false,
            "globalStep": 316998,
            "id": "node-319713",
            "labels": "CashOut",
            "step": 469,
            "ts": 469
           },
           {
            "id": "node-2727",
            "labels": "Client",
            "name": "Xavier Marsh"
           },
           {
            "amount": 1091.0079380125144,
            "fraud": false,
            "globalStep": 316068,
            "id": "node-318762",
            "labels": "Payment",
            "step": 408,
            "ts": 408
           },
           {
            "id": "node-1312",
            "labels": "Client",
            "name": "Taylor Vincent"
           },
           {
            "amount": 220292.59529583552,
            "fraud": false,
            "globalStep": 316377,
            "id": "node-319077",
            "labels": "Transaction",
            "step": 426,
            "ts": 426
           },
           {
            "id": "node-1542",
            "labels": "Client",
            "name": "Lucy Simon"
           },
           {
            "amount": 231836.6509443662,
            "fraud": false,
            "globalStep": 314198,
            "id": "node-316885",
            "labels": "Transaction",
            "step": 384,
            "ts": 384
           },
           {
            "id": "node-5498",
            "labels": "Client",
            "name": "Annabelle Richards"
           },
           {
            "amount": 2416.1906202032164,
            "fraud": false,
            "globalStep": 313656,
            "id": "node-316340",
            "labels": "Payment",
            "step": 382,
            "ts": 382
           }
          ]
         }
        ],
        "style": {}
       }
      }
     },
     "ed39f1f2ad8a4374b0ba1645d77b6e7f": {
      "model_module": "@cylynx/pymotif",
      "model_module_version": "^0.0.1-beta.3",
      "model_name": "MotifModel",
      "state": {
       "_model_module_version": "^0.0.1-beta.3",
       "_view_module_version": "^0.0.1-beta.3",
       "group_edges": true,
       "layout": "IPY_MODEL_f9e9b18d64914effbea5f55889b074f7",
       "state": {
        "data": [
         {
          "edges": [
           {
            "id": "edge-7",
            "relationship": "ACTED_IN",
            "roles": [
             "Emil"
            ],
            "source": "node-8",
            "target": "node-0"
           },
           {
            "id": "edge-6",
            "relationship": "PRODUCED",
            "source": "node-7",
            "target": "node-0"
           },
           {
            "id": "edge-5",
            "relationship": "DIRECTED",
            "source": "node-6",
            "target": "node-0"
           },
           {
            "id": "edge-4",
            "relationship": "DIRECTED",
            "source": "node-5",
            "target": "node-0"
           },
           {
            "id": "edge-3",
            "relationship": "ACTED_IN",
            "roles": [
             "Agent Smith"
            ],
            "source": "node-4",
            "target": "node-0"
           },
           {
            "id": "edge-2",
            "relationship": "ACTED_IN",
            "roles": [
             "Morpheus"
            ],
            "source": "node-3",
            "target": "node-0"
           },
           {
            "id": "edge-1",
            "relationship": "ACTED_IN",
            "roles": [
             "Trinity"
            ],
            "source": "node-2",
            "target": "node-0"
           },
           {
            "id": "edge-0",
            "relationship": "ACTED_IN",
            "roles": [
             "Neo"
            ],
            "source": "node-1",
            "target": "node-0"
           },
           {
            "id": "edge-14",
            "relationship": "PRODUCED",
            "source": "node-7",
            "target": "node-9"
           },
           {
            "id": "edge-13",
            "relationship": "DIRECTED",
            "source": "node-6",
            "target": "node-9"
           },
           {
            "id": "edge-12",
            "relationship": "DIRECTED",
            "source": "node-5",
            "target": "node-9"
           },
           {
            "id": "edge-11",
            "relationship": "ACTED_IN",
            "roles": [
             "Agent Smith"
            ],
            "source": "node-4",
            "target": "node-9"
           },
           {
            "id": "edge-10",
            "relationship": "ACTED_IN",
            "roles": [
             "Morpheus"
            ],
            "source": "node-3",
            "target": "node-9"
           },
           {
            "id": "edge-9",
            "relationship": "ACTED_IN",
            "roles": [
             "Trinity"
            ],
            "source": "node-2",
            "target": "node-9"
           },
           {
            "id": "edge-8",
            "relationship": "ACTED_IN",
            "roles": [
             "Neo"
            ],
            "source": "node-1",
            "target": "node-9"
           },
           {
            "id": "edge-21",
            "relationship": "PRODUCED",
            "source": "node-7",
            "target": "node-10"
           },
           {
            "id": "edge-20",
            "relationship": "DIRECTED",
            "source": "node-6",
            "target": "node-10"
           },
           {
            "id": "edge-19",
            "relationship": "DIRECTED",
            "source": "node-5",
            "target": "node-10"
           },
           {
            "id": "edge-18",
            "relationship": "ACTED_IN",
            "roles": [
             "Agent Smith"
            ],
            "source": "node-4",
            "target": "node-10"
           },
           {
            "id": "edge-17",
            "relationship": "ACTED_IN",
            "roles": [
             "Morpheus"
            ],
            "source": "node-3",
            "target": "node-10"
           }
          ],
          "metadata": {
           "title": "movies neo4j graph"
          },
          "nodes": [
           {
            "id": "node-0",
            "labels": "Movie",
            "released": 1999,
            "tagline": "Welcome to the Real World",
            "title": "The Matrix"
           },
           {
            "born": 1978,
            "id": "node-8",
            "labels": "Person",
            "name": "Emil Eifrem"
           },
           {
            "born": 1952,
            "id": "node-7",
            "labels": "Person",
            "name": "Joel Silver"
           },
           {
            "born": 1965,
            "id": "node-6",
            "labels": "Person",
            "name": "Lana Wachowski"
           },
           {
            "born": 1967,
            "id": "node-5",
            "labels": "Person",
            "name": "Lilly Wachowski"
           },
           {
            "born": 1960,
            "id": "node-4",
            "labels": "Person",
            "name": "Hugo Weaving"
           },
           {
            "born": 1961,
            "id": "node-3",
            "labels": "Person",
            "name": "Laurence Fishburne"
           },
           {
            "born": 1967,
            "id": "node-2",
            "labels": "Person",
            "name": "Carrie-Anne Moss"
           },
           {
            "born": 1964,
            "id": "node-1",
            "labels": "Person",
            "name": "Keanu Reeves"
           },
           {
            "id": "node-9",
            "labels": "Movie",
            "released": 2003,
            "tagline": "Free your mind",
            "title": "The Matrix Reloaded"
           },
           {
            "id": "node-10",
            "labels": "Movie",
            "released": 2003,
            "tagline": "Everything that has a beginning has an end",
            "title": "The Matrix Revolutions"
           }
          ]
         }
        ],
        "style": {}
       }
      }
     },
     "f9e9b18d64914effbea5f55889b074f7": {
      "model_module": "@jupyter-widgets/base",
      "model_module_version": "1.2.0",
      "model_name": "LayoutModel",
      "state": {
       "height": "600px",
       "width": "100%"
      }
     }
    },
    "version_major": 2,
    "version_minor": 0
   }
  }
 },
 "nbformat": 4,
 "nbformat_minor": 5
}
