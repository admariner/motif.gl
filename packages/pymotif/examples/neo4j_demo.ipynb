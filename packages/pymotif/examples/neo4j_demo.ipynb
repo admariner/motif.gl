{
 "cells": [
  {
   "cell_type": "markdown",
   "id": "05461b94-3b60-40c0-90c1-8e072004cbe8",
   "metadata": {},
   "source": [
    "# Neo4j Demo"
   ]
  },
  {
   "cell_type": "code",
   "execution_count": 1,
   "id": "c6584545-1f97-488f-89d7-663212849c84",
   "metadata": {},
   "outputs": [],
   "source": [
    "from pymotif import Motif\n",
    "from neo4j import GraphDatabase\n",
    "\n",
    "import networkx as nx"
   ]
  },
  {
   "cell_type": "code",
   "execution_count": 2,
   "id": "ce3725f3-98dc-4e9c-98ff-b9567d4e0ce3",
   "metadata": {},
   "outputs": [],
   "source": [
    "# neo4j sandbox\n",
    "uri = 'bolt://35.170.33.46:7687'\n",
    "auth = ('neo4j', 'clothing-chairmen-stings')\n",
    "driver = GraphDatabase.driver(uri=uri,auth=auth)\n",
    "\n",
    "# return all Person nodes who directed a movie that was released after 2000\n",
    "query = 'MATCH (p:Person)-[d:DIRECTED]-(m:Movie) where m.released > 2000 RETURN p,d,m'\n",
    "\n",
    "# get query results\n",
    "results = driver.session().run(query)"
   ]
  },
  {
   "cell_type": "code",
   "execution_count": 3,
   "id": "e6e31244-1136-4e64-a7c3-1ac4e284ff2f",
   "metadata": {},
   "outputs": [
    {
     "data": {
      "application/vnd.jupyter.widget-view+json": {
       "model_id": "11c3a342744e4d8587211e81ffa328b6",
       "version_major": 2,
       "version_minor": 0
      },
      "text/plain": [
       "Motif(value=None, layout=Layout(height='600px', width='100%'), state={'data': [{'nodes': [{'entity': 'Person',…"
      ]
     },
     "metadata": {},
     "output_type": "display_data"
    }
   ],
   "source": [
    "# plot the neo4j graph\n",
    "test = Motif(neo4j_graph=results.graph(), title='neo4j graph')\n",
    "test.plot()"
   ]
  },
  {
   "cell_type": "code",
   "execution_count": 4,
   "id": "97182c1f-09ee-494f-9661-04828517054d",
   "metadata": {},
   "outputs": [
    {
     "data": {
      "application/vnd.jupyter.widget-view+json": {
       "model_id": "11c3a342744e4d8587211e81ffa328b6",
       "version_major": 2,
       "version_minor": 0
      },
      "text/plain": [
       "Motif(value=None, layout=Layout(height='600px', width='100%'), state={'data': [{'nodes': [{'entity': 'Person',…"
      ]
     },
     "metadata": {},
     "output_type": "display_data"
    }
   ],
   "source": [
    "# make some style adjustments via UI\n",
    "test.plot()"
   ]
  }
 ],
 "metadata": {
  "kernelspec": {
   "display_name": "Python 3",
   "language": "python",
   "name": "python3"
  },
  "language_info": {
   "codemirror_mode": {
    "name": "ipython",
    "version": 3
   },
   "file_extension": ".py",
   "mimetype": "text/x-python",
   "name": "python",
   "nbconvert_exporter": "python",
   "pygments_lexer": "ipython3",
   "version": "3.9.4"
  }
 },
 "nbformat": 4,
 "nbformat_minor": 5
}
